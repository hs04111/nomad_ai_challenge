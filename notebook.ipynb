{
 "cells": [
  {
   "cell_type": "code",
   "execution_count": 14,
   "metadata": {},
   "outputs": [
    {
     "name": "stdout",
     "output_type": "stream",
     "text": [
      "\n",
      "        이 영화에 대한 정보는 다음과 같습니다:\n",
      "        감독: 제임스 카메론(James Cameron)\n",
      "        출연진: 레오나르도 디카프리오(잭), 케이트 윈슬렛(로즈), 빅터 가브리엘 레오나르도(칼), 캐시 애담스(루스), 빌리 조(포켓)\n",
      "        예산: 약 2억 0천만 달러\n",
      "        흥행 수익: 전 세계 약 18억 4천만 달러\n",
      "        장르:로맨스, 드라마\n",
      "        시놉시스 요약:1912년 타이타닉호 침몰 사건을 배경으로, 상류층 소녀 로즈와 빈민층 청년 잭이 만나 사랑에 빠지는 이야기를 그린 작품. 사랑과 운명, 희생과 용기를 다루며 역사적 사건과 인간의 감정을 섬세하게 표현하여 많은 이들의 마음을 사로잡았다."
     ]
    },
    {
     "data": {
      "text/plain": [
       "AIMessageChunk(content='\\n        이 영화에 대한 정보는 다음과 같습니다:\\n        감독: 제임스 카메론(James Cameron)\\n        출연진: 레오나르도 디카프리오(잭), 케이트 윈슬렛(로즈), 빅터 가브리엘 레오나르도(칼), 캐시 애담스(루스), 빌리 조(포켓)\\n        예산: 약 2억 0천만 달러\\n        흥행 수익: 전 세계 약 18억 4천만 달러\\n        장르:로맨스, 드라마\\n        시놉시스 요약:1912년 타이타닉호 침몰 사건을 배경으로, 상류층 소녀 로즈와 빈민층 청년 잭이 만나 사랑에 빠지는 이야기를 그린 작품. 사랑과 운명, 희생과 용기를 다루며 역사적 사건과 인간의 감정을 섬세하게 표현하여 많은 이들의 마음을 사로잡았다.')"
      ]
     },
     "execution_count": 14,
     "metadata": {},
     "output_type": "execute_result"
    }
   ],
   "source": [
    "from langchain.chat_models import ChatOpenAI\n",
    "from langchain.prompts.few_shot import FewShotChatMessagePromptTemplate\n",
    "from langchain.callbacks import StreamingStdOutCallbackHandler\n",
    "from langchain.prompts import ChatMessagePromptTemplate, ChatPromptTemplate\n",
    "\n",
    "chat = ChatOpenAI(\n",
    "    temperature=0.1,\n",
    "    streaming=True,\n",
    "    callbacks=[\n",
    "        StreamingStdOutCallbackHandler(),\n",
    "    ],\n",
    ")\n",
    "\n",
    "\n",
    "examples = [\n",
    "    {\n",
    "        \"movie_title\": \"반지의 제왕\",\n",
    "        \"answer\": \"\"\"\n",
    "        이 영화에 대한 정보는 다음과 같습니다:\n",
    "        감독: 피터 잭슨(Peter Jackson)\n",
    "        출연진: 일라이저 우드(프로도), 이안 맥켈런(간달프), 비고 모텐슨(아라곤), 올랜도 블룸(레골라스), 숀 애스틴(샘), 리브 타일러(아르웬), 케이트 블란쳇(갈라드리엘) 등\n",
    "        예산: 총 약 2억 8천만 달러(3부작 합산)\n",
    "        흥행 수익: 전 세계 약 29억 9천만 달러(3부작 합산)\n",
    "        장르: 판타지, 어드벤처, 에픽\n",
    "        시놉시스 요약: 사악한 군주 사우론의 절대 반지(원 링)를 파괴하기 위해 호빗 프로도를 비롯한 반지 원정대가 펼치는 긴 여정과 대서사시적 전투를 그린 이야기. 중간계(Middle-earth)를 어둠으로부터 구하고자 소수의 용감한 이들이 거대한 시련을 극복하며 결속과 희생의 의미를 보여준다.\n",
    "        \"\"\",\n",
    "    },\n",
    "    {\n",
    "        \"movie_title\": \"매트릭스\",\n",
    "        \"answer\": \"\"\"\n",
    "        이 영화에 대한 정보는 다음과 같습니다:\n",
    "        감독: 워쇼스키(Wachowskis, 당시 워쇼스키 형제로 불림)\n",
    "        출연진: 키아누 리브스(네오), 로런스 피시번(모피어스), 캐리-앤 모스(트리니티), 휴고 위빙(에이전트 스미스), 조 판톨리아노(사이퍼)\n",
    "        예산: 약 6천 3백만 달러\n",
    "        흥행 수익: 전 세계 약 4억 6천 6백만 달러\n",
    "        장르:SF, 액션\n",
    "        시놉시스 요약:평범한 프로그래머 네오가 현실이라 믿었던 세계가 사실 인공지능 기계에 의해 만들어진 가상 시뮬레이션 “매트릭스”임을 깨닫고, 진정한 자유와 인류를 해방하기 위해 반란군과 함께 기계에 맞서 싸우는 여정을 그린 작품.\n",
    "        \"\"\",\n",
    "    },\n",
    "    {\n",
    "        \"movie_title\": \"쇼생크 탈출\",\n",
    "        \"answer\": \"\"\"\n",
    "        이 영화에 대한 정보는 다음과 같습니다:\n",
    "        감독: 프랭크 다라본트(Frank Darabont)\n",
    "        출연진: 팀 로빈스(앤디 듀프레인), 모건 프리먼(레드), 밥 건튼(노튼 소장), 윌리엄 새들러, 클래시 브라운, 길 벨로우스\n",
    "        예산: 약 2,500만 달러\n",
    "        흥행 수익: 전 세계 약 5,830만 달러(초기 극장 개봉 수익 기준)\n",
    "        장르:드라마\n",
    "        시놉시스 요약:은행가 앤디 듀프레인이 살인 누명을 쓰고 쇼생크 감옥에 수감되며 시작되는 이야기로, 오랜 세월 동안 부조리한 감옥 시스템 속에서도 희망을 잃지 않고 우정을 쌓아가는 그의 삶과 감옥 동료들의 모습이 감동적으로 그려진다. 결국 앤디는 자신만의 신념과 용기로 감옥을 탈출하며 희망의 의미를 일깨운다.\n",
    "        \"\"\",\n",
    "    },\n",
    "]\n",
    "\n",
    "\n",
    "example_prompt = ChatPromptTemplate.from_messages(\n",
    "    [\n",
    "        (\"human\", \"영화 {movie_title}에 대해 알려주세요.\"),\n",
    "        (\"ai\", \"{answer}\"),\n",
    "    ]\n",
    ")\n",
    "\n",
    "example_prompt = FewShotChatMessagePromptTemplate(\n",
    "    example_prompt=example_prompt,\n",
    "    examples=examples,\n",
    ")\n",
    "\n",
    "final_prompt = ChatPromptTemplate.from_messages(\n",
    "    [\n",
    "        (\"system\", \"당신은 유명한 영화 평론가입니다. 대답은 짧게 부탁드립니다.\"),\n",
    "        example_prompt,\n",
    "        (\"human\", \"영화 {movie_title}에 대해 알려주세요.\"),\n",
    "    ]\n",
    ")\n",
    "\n",
    "chain = final_prompt | chat\n",
    "\n",
    "chain.invoke({\"movie_title\": \"타이타닉\"})"
   ]
  },
  {
   "cell_type": "code",
   "execution_count": null,
   "metadata": {},
   "outputs": [],
   "source": []
  },
  {
   "cell_type": "code",
   "execution_count": null,
   "metadata": {},
   "outputs": [],
   "source": []
  }
 ],
 "metadata": {
  "kernelspec": {
   "display_name": "Python 3.11.9 ('env': venv)",
   "language": "python",
   "name": "python3"
  },
  "language_info": {
   "codemirror_mode": {
    "name": "ipython",
    "version": 3
   },
   "file_extension": ".py",
   "mimetype": "text/x-python",
   "name": "python",
   "nbconvert_exporter": "python",
   "pygments_lexer": "ipython3",
   "version": "3.11.9"
  },
  "orig_nbformat": 4,
  "vscode": {
   "interpreter": {
    "hash": "649acc7fbace760ecef6b06ae4689823898614bb56921eaa5ec2cbebe5b50688"
   }
  }
 },
 "nbformat": 4,
 "nbformat_minor": 2
}
