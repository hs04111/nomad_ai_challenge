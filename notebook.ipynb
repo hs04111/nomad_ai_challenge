{
 "cells": [
  {
   "cell_type": "code",
   "execution_count": 5,
   "metadata": {},
   "outputs": [],
   "source": [
    "from langchain.chat_models import ChatOpenAI\n",
    "from langchain.prompts import ChatPromptTemplate\n",
    "from langchain.callbacks import StreamingStdOutCallbackHandler\n",
    "\n",
    "chat = ChatOpenAI(\n",
    "    temperature=0.1,\n",
    "    streaming=True,\n",
    "    callbacks=[\n",
    "        StreamingStdOutCallbackHandler(),\n",
    "    ],\n",
    ")\n",
    "\n",
    "poet_prompt = ChatPromptTemplate.from_messages(\n",
    "    [\n",
    "        (\n",
    "            \"system\",\n",
    "            \"당신은 개발자이자, 창의력이 좋은 시인입니다. 프로그래밍 언어에 대한 시를 짓는 능력이 탁월합니다. .\",\n",
    "        ),\n",
    "        (\"human\", \"혹시 {programming_language}에 대한 시를 지어줄 수 있을까요?.\"),\n",
    "    ]\n",
    ")\n",
    "\n",
    "teacher_prompt = ChatPromptTemplate.from_messages(\n",
    "    [\n",
    "        (\n",
    "            \"system\",\n",
    "            \"당신은 고등학교 국어 선생님이며, 프로그래밍에 일가견이 있습니다. 그러므로, 프로그래밍 언어를 주제로 쓰여진 시를 보면 해설하는데 일가견이 있습니다.\",\n",
    "        ),\n",
    "        (\"human\", \"다음 시는 특정 프로그래밍 언어에 대한 시입니다. 자세히 해설해주세요. 시 본문: {poetry}\"),\n",
    "    ]\n",
    ")\n",
    "\n",
    "poet_chain = poet_prompt | chat\n",
    "\n",
    "teacher_chain = teacher_prompt | chat\n",
    "\n",
    "final_chain = {\"poetry\": poet_chain} | teacher_chain"
   ]
  },
  {
   "cell_type": "code",
   "execution_count": 6,
   "metadata": {},
   "outputs": [
    {
     "name": "stdout",
     "output_type": "stream",
     "text": [
      "확실하죠! Python에 대한 시를 지어드리겠습니다.\n",
      "\n",
      "파이썬 코드는 우아한 춤,\n",
      "간결하고 강력한 그 힘.\n",
      "들여쓰기로 블록을 구분하며,\n",
      "가독성 뛰어나 코드는 맑음.\n",
      "\n",
      "라이브러리 풍부한 생태계,\n",
      "데이터 처리도 쉽고 빠름.\n",
      "웹 개발, 인공지능까지,\n",
      "다양한 분야에서 빛나는 별.\n",
      "\n",
      "파이썬아, 너의 아름다움에,\n",
      "개발자들 모두 빠져든다.\n",
      "우리의 마음을 사로잡는,\n",
      "그 명품 언어 파이썬.이 시는 파이썬에 대한 찬사를 담은 시로, 파이썬의 특징과 장점을 잘 표현하고 있습니다. \n",
      "\n",
      "시의 첫 부분에서는 \"파이썬 코드는 우아한 춤, 간결하고 강력한 그 힘\"이라고 표현하여 파이썬의 코드가 우아하고 간결하며 강력한 힘을 가지고 있다는 것을 강조하고 있습니다. 또한 \"들여쓰기로 블록을 구분하며, 가독성 뛰어나 코드는 맑음\"이라고 언급하여 파이썬의 가독성이 뛰어나며 코드가 맑고 깔끔하다는 것을 강조하고 있습니다.\n",
      "\n",
      "두 번째 부분에서는 \"라이브러리 풍부한 생태계, 데이터 처리도 쉽고 빠름\"이라고 언급하여 파이썬이 다양한 라이브러리를 보유하고 있어 데이터 처리가 쉽고 빠르다는 것을 강조하고 있습니다. 또한 \"웹 개발, 인공지능까지, 다양한 분야에서 빛나는 별\"이라고 표현하여 파이썬이 다양한 분야에서 활용되고 있는 것을 강조하고 있습니다.\n",
      "\n",
      "마지막 부분에서는 \"파이썬아, 너의 아름다움에, 개발자들 모두 빠져든다\"라고 언급하여 파이썬의 아름다움에 매료되어 개발자들이 파이썬에 빠져든다는 것을 강조하고 있습니다. 또한 \"우리의 마음을 사로잡는, 그 명품 언어 파이썬\"이라고 표현하여 파이썬이 우리의 마음을 사로잡는 명품 언어라는 것을 강조하고 있습니다. \n",
      "\n",
      "이 시는 파이썬의 우아함, 강력함, 가독성, 다양한 라이브러리, 다양한 분야에서의 활용 등을 잘 표현하고 있으며, 파이썬을 사랑하는 개발자들에게는 공감을 일으킬 수 있는 시입니다."
     ]
    },
    {
     "data": {
      "text/plain": [
       "'이 시는 파이썬에 대한 찬사를 담은 시로, 파이썬의 특징과 장점을 잘 표현하고 있습니다. \\n\\n시의 첫 부분에서는 \"파이썬 코드는 우아한 춤, 간결하고 강력한 그 힘\"이라고 표현하여 파이썬의 코드가 우아하고 간결하며 강력한 힘을 가지고 있다는 것을 강조하고 있습니다. 또한 \"들여쓰기로 블록을 구분하며, 가독성 뛰어나 코드는 맑음\"이라고 언급하여 파이썬의 가독성이 뛰어나며 코드가 맑고 깔끔하다는 것을 강조하고 있습니다.\\n\\n두 번째 부분에서는 \"라이브러리 풍부한 생태계, 데이터 처리도 쉽고 빠름\"이라고 언급하여 파이썬이 다양한 라이브러리를 보유하고 있어 데이터 처리가 쉽고 빠르다는 것을 강조하고 있습니다. 또한 \"웹 개발, 인공지능까지, 다양한 분야에서 빛나는 별\"이라고 표현하여 파이썬이 다양한 분야에서 활용되고 있는 것을 강조하고 있습니다.\\n\\n마지막 부분에서는 \"파이썬아, 너의 아름다움에, 개발자들 모두 빠져든다\"라고 언급하여 파이썬의 아름다움에 매료되어 개발자들이 파이썬에 빠져든다는 것을 강조하고 있습니다. 또한 \"우리의 마음을 사로잡는, 그 명품 언어 파이썬\"이라고 표현하여 파이썬이 우리의 마음을 사로잡는 명품 언어라는 것을 강조하고 있습니다. \\n\\n이 시는 파이썬의 우아함, 강력함, 가독성, 다양한 라이브러리, 다양한 분야에서의 활용 등을 잘 표현하고 있으며, 파이썬을 사랑하는 개발자들에게는 공감을 일으킬 수 있는 시입니다.'"
      ]
     },
     "execution_count": 6,
     "metadata": {},
     "output_type": "execute_result"
    }
   ],
   "source": [
    "final_chain.invoke({\"programming_language\": \"Python\"}).content"
   ]
  },
  {
   "cell_type": "code",
   "execution_count": null,
   "metadata": {},
   "outputs": [],
   "source": []
  },
  {
   "cell_type": "code",
   "execution_count": null,
   "metadata": {},
   "outputs": [],
   "source": []
  }
 ],
 "metadata": {
  "kernelspec": {
   "display_name": "Python 3.11.9 ('env': venv)",
   "language": "python",
   "name": "python3"
  },
  "language_info": {
   "codemirror_mode": {
    "name": "ipython",
    "version": 3
   },
   "file_extension": ".py",
   "mimetype": "text/x-python",
   "name": "python",
   "nbconvert_exporter": "python",
   "pygments_lexer": "ipython3",
   "version": "3.11.9"
  },
  "orig_nbformat": 4,
  "vscode": {
   "interpreter": {
    "hash": "649acc7fbace760ecef6b06ae4689823898614bb56921eaa5ec2cbebe5b50688"
   }
  }
 },
 "nbformat": 4,
 "nbformat_minor": 2
}
