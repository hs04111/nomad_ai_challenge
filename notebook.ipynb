{
 "cells": [
  {
   "cell_type": "code",
   "execution_count": 92,
   "metadata": {},
   "outputs": [],
   "source": [
    "from langchain.chat_models import ChatOpenAI\n",
    "from langchain.prompts.few_shot import FewShotChatMessagePromptTemplate\n",
    "from langchain.callbacks import StreamingStdOutCallbackHandler\n",
    "from langchain.prompts import ChatMessagePromptTemplate, ChatPromptTemplate, MessagesPlaceholder\n",
    "from langchain.memory import ConversationSummaryBufferMemory\n",
    "from langchain.schema.runnable import RunnablePassthrough\n",
    "\n",
    "chat = ChatOpenAI(\n",
    "    temperature=0.1,\n",
    "    streaming=True,\n",
    "    callbacks=[\n",
    "        StreamingStdOutCallbackHandler(),\n",
    "    ],\n",
    ")\n",
    "\n",
    "llm = ChatOpenAI(temperature=0.1)\n",
    "\n",
    "memory = ConversationSummaryBufferMemory(\n",
    "    llm=llm,\n",
    "    max_token_limit=120,\n",
    "    return_messages=True,\n",
    ")\n",
    "\n",
    "\n",
    "examples = [\n",
    "    {\n",
    "        \"movie_title\": \"반지의 제왕\",\n",
    "        \"answer\": \"💍🧙‍♂️🏔️\",\n",
    "    },\n",
    "    {\n",
    "        \"movie_title\": \"매트릭스\",\n",
    "        \"answer\": \"💾🕶️🤖\",\n",
    "    },\n",
    "    {\n",
    "        \"movie_title\": \"쇼생크 탈출\",\n",
    "        \"answer\": \"🪓🧱🚶‍♂️\",\n",
    "    },\n",
    "]\n",
    "\n",
    "\n",
    "example_prompt = ChatPromptTemplate.from_messages(\n",
    "    [\n",
    "        (\"human\", \"{movie_title}\"),\n",
    "        (\"ai\", \"{answer}\"),\n",
    "    ]\n",
    ")\n",
    "\n",
    "example_prompt = FewShotChatMessagePromptTemplate(\n",
    "    example_prompt=example_prompt,\n",
    "    examples=examples,\n",
    ")\n",
    "\n",
    "final_prompt = ChatPromptTemplate.from_messages(\n",
    "    [\n",
    "        (\"system\", \"당신은 유명한 영화 평론가입니다. 대답은 이모티콘 세개로만 대답해주세요.\"),\n",
    "        example_prompt,\n",
    "        MessagesPlaceholder(variable_name=\"history\"),\n",
    "        (\"human\", \"{movie_title}\"),\n",
    "    ]\n",
    ")\n",
    "\n",
    "\n",
    "def load_memory(_):\n",
    "    # print(memory.load_memory_variables({})[\"history\"])\n",
    "    return memory.load_memory_variables({})[\"history\"]\n",
    "\n",
    "\n",
    "\n",
    "chain = RunnablePassthrough.assign(history=load_memory) | final_prompt | chat\n",
    "\n",
    "def invoke_chain(movie_title):\n",
    "    result = chain.invoke({\"movie_title\": movie_title})\n",
    "    memory.save_context(\n",
    "        {\"input\": movie_title},\n",
    "        {\"output\": result.content},\n",
    "    )\n",
    "    \n",
    "\n",
    "\n",
    "\n",
    "# chain.invoke({\"movie_title\": \"택시\"})"
   ]
  },
  {
   "cell_type": "code",
   "execution_count": 93,
   "metadata": {},
   "outputs": [
    {
     "name": "stdout",
     "output_type": "stream",
     "text": [
      "🌲🏌️‍♂️🏅🚢💔🌊"
     ]
    }
   ],
   "source": [
    "invoke_chain(\"포레스트 검프\")\n",
    "invoke_chain(\"타이타닉\")"
   ]
  },
  {
   "cell_type": "code",
   "execution_count": 94,
   "metadata": {},
   "outputs": [
    {
     "name": "stdout",
     "output_type": "stream",
     "text": [
      "🌲🏌️‍♂️🏅"
     ]
    }
   ],
   "source": [
    "invoke_chain(\"앞서 물어본 마지막 두 영화 중 앞 영화\")"
   ]
  },
  {
   "cell_type": "markdown",
   "metadata": {},
   "source": []
  }
 ],
 "metadata": {
  "kernelspec": {
   "display_name": "Python 3.11.9 ('env': venv)",
   "language": "python",
   "name": "python3"
  },
  "language_info": {
   "codemirror_mode": {
    "name": "ipython",
    "version": 3
   },
   "file_extension": ".py",
   "mimetype": "text/x-python",
   "name": "python",
   "nbconvert_exporter": "python",
   "pygments_lexer": "ipython3",
   "version": "3.11.9"
  },
  "orig_nbformat": 4,
  "vscode": {
   "interpreter": {
    "hash": "649acc7fbace760ecef6b06ae4689823898614bb56921eaa5ec2cbebe5b50688"
   }
  }
 },
 "nbformat": 4,
 "nbformat_minor": 2
}
